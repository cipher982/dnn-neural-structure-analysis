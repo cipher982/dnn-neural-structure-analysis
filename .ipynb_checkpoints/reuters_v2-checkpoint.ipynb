{
 "cells": [
  {
   "cell_type": "code",
   "execution_count": 1,
   "metadata": {},
   "outputs": [
    {
     "name": "stderr",
     "output_type": "stream",
     "text": [
      "Using TensorFlow backend.\n"
     ]
    }
   ],
   "source": [
    "import os\n",
    "os.environ['CUDA_VISIBLE_DEVICES'] = '-1'\n",
    "\n",
    "import numpy as np\n",
    "import pandas as pd\n",
    "\n",
    "import keras\n",
    "from keras.utils.np_utils import to_categorical\n",
    "from keras import models\n",
    "from keras import layers\n",
    "from keras.callbacks import EarlyStopping\n",
    "\n",
    "import matplotlib.pyplot as plt\n",
    "import matplotlib.patches as mpatches\n",
    "\n",
    "plt.style.use('default')"
   ]
  },
  {
   "cell_type": "code",
   "execution_count": 27,
   "metadata": {},
   "outputs": [],
   "source": [
    "global model\n",
    "global dataset\n",
    "\n",
    "def vectorize_sequences(sequences, dimension=10000):\n",
    "    results = np.zeros((len(sequences), dimension))\n",
    "    for i, sequence in enumerate(sequences):\n",
    "        results[i, sequence] = 1.\n",
    "    return results\n",
    "\n",
    "def myModel(nodes=64,hidden_layers=1, verbose=2, save_path=None):\n",
    "    model = models.Sequential()\n",
    "    model.add(layers.Dense(nodes, activation='relu', input_shape=(10000,)))\n",
    "    for layer in range(hidden_layers):\n",
    "        model.add(layers.Dense(nodes, activation='relu'))\n",
    "    model.add(layers.Dense(46, activation='softmax'))\n",
    "\n",
    "    model.compile(optimizer='rmsprop',\n",
    "                  loss='categorical_crossentropy',\n",
    "                  metrics=['accuracy'])\n",
    "    \n",
    "    # Set callback functions to early stop training and save the best model so far\n",
    "    callbacks = [EarlyStopping(monitor='val_loss', patience=4)]\n",
    "    val_hist = model.fit(partial_x_train,\n",
    "                    partial_y_train,\n",
    "                    epochs=30,\n",
    "                    batch_size=256,\n",
    "                    validation_data=(x_val, y_val),\n",
    "                    callbacks=callbacks,\n",
    "                    verbose=verbose)\n",
    "    \n",
    "    test_hist = model.evaluate(x_test, y_test)\n",
    "    model.save(save_path + '/{}/trained_model_{}_nodes_{}_layers'\\\n",
    "               .format(dataset, nodes, hidden_layers))\n",
    "    return val_hist, test_hist\n",
    "    \n",
    "(train_data, train_labels), (test_data, test_labels) = \\\n",
    "    keras.datasets.reuters.load_data(num_words=10000)\n",
    "\n",
    "x_train = vectorize_sequences(train_data)\n",
    "x_test = vectorize_sequences(test_data)\n",
    "\n",
    "y_train = to_categorical(train_labels)\n",
    "y_test = to_categorical(test_labels)\n",
    "\n",
    "x_val = x_train[:1000]\n",
    "partial_x_train = x_train[1000:]\n",
    "\n",
    "y_val = y_train[:1000]\n",
    "partial_y_train = y_train[1000:]"
   ]
  },
  {
   "cell_type": "code",
   "execution_count": 28,
   "metadata": {},
   "outputs": [
    {
     "data": {
      "text/plain": [
       "(8982, 10000)"
      ]
     },
     "execution_count": 28,
     "metadata": {},
     "output_type": "execute_result"
    }
   ],
   "source": [
    "x_train.shape"
   ]
  },
  {
   "cell_type": "code",
   "execution_count": 29,
   "metadata": {},
   "outputs": [
    {
     "data": {
      "text/plain": [
       "(8982, 46)"
      ]
     },
     "execution_count": 29,
     "metadata": {},
     "output_type": "execute_result"
    }
   ],
   "source": [
    "y_train.shape"
   ]
  },
  {
   "cell_type": "code",
   "execution_count": 30,
   "metadata": {},
   "outputs": [
    {
     "data": {
      "text/plain": [
       "(2246, 10000)"
      ]
     },
     "execution_count": 30,
     "metadata": {},
     "output_type": "execute_result"
    }
   ],
   "source": [
    "x_test.shape"
   ]
  },
  {
   "cell_type": "code",
   "execution_count": 31,
   "metadata": {},
   "outputs": [
    {
     "data": {
      "text/plain": [
       "(2246, 46)"
      ]
     },
     "execution_count": 31,
     "metadata": {},
     "output_type": "execute_result"
    }
   ],
   "source": [
    "y_test.shape"
   ]
  },
  {
   "cell_type": "code",
   "execution_count": 32,
   "metadata": {},
   "outputs": [
    {
     "data": {
      "text/plain": [
       "(7982, 10000)"
      ]
     },
     "execution_count": 32,
     "metadata": {},
     "output_type": "execute_result"
    }
   ],
   "source": [
    "partial_x_train.shape"
   ]
  },
  {
   "cell_type": "code",
   "execution_count": 33,
   "metadata": {},
   "outputs": [
    {
     "data": {
      "text/plain": [
       "(1000, 46)"
      ]
     },
     "execution_count": 33,
     "metadata": {},
     "output_type": "execute_result"
    }
   ],
   "source": [
    "y_val.shape"
   ]
  },
  {
   "cell_type": "code",
   "execution_count": null,
   "metadata": {},
   "outputs": [
    {
     "name": "stdout",
     "output_type": "stream",
     "text": [
      "1 1\n",
      "Train on 7982 samples, validate on 1000 samples\n",
      "Epoch 1/30\n",
      "7936/7982 [============================>.] - ETA: 0s - loss: 3.8006 - acc: 0.1302"
     ]
    }
   ],
   "source": [
    "node_list =  [1, 2, 4, 8, 16, 32, 64, 128, 256, 512]\n",
    "layer_list = [1, 2, 3, 4,  5,  6,  7,   8,   9,  10]\n",
    "\n",
    "#node_list =  [2,4]\n",
    "#layer_list = [1,4]\n",
    "\n",
    "dataset = 'reuters'\n",
    "save_path = 'D:/data/vca/outputs/saved_models'\n",
    "\n",
    "val_acc = np.zeros(shape=(len(node_list),len(layer_list)))\n",
    "test_acc = np.zeros(shape=(len(node_list),len(layer_list)))\n",
    "for i,node in enumerate(node_list):\n",
    "    for ii,layer in enumerate(layer_list):\n",
    "        print(node, layer)\n",
    "        val_hist, test_hist = myModel(nodes=node,\n",
    "                                      hidden_layers=layer,\n",
    "                                      verbose=1,\n",
    "                                      save_path=save_path)\n",
    "        print(test_hist)\n",
    "        val_acc[i,ii] = np.max(val_hist.history['val_acc'])\n",
    "        test_acc[i,ii] = test_hist[1]\n",
    "\n",
    "df_val = pd.DataFrame(test_acc)\n",
    "df_val.columns = layer_list\n",
    "df_val.index = node_list\n",
    "model_desc = '_layers_' + str(df_val.columns.values) + '_nodes_' + str(df_val.index.values)\n",
    "df_val.to_csv(save_path + '/{}/val_acc_{}'.format(dataset, model_desc))\n",
    "\n",
    "df_test = pd.DataFrame(test_acc)\n",
    "df_test.columns = layer_list\n",
    "df_test.index = node_list\n",
    "model_desc = '_layers_' + str(df_test.columns.values) + '_nodes_' + str(df_test.index.values)\n",
    "df_test.to_csv(save_path + '/{}/test_acc_{}'.format(dataset, model_desc))"
   ]
  },
  {
   "cell_type": "code",
   "execution_count": null,
   "metadata": {},
   "outputs": [],
   "source": []
  }
 ],
 "metadata": {
  "kernelspec": {
   "display_name": "Python 3",
   "language": "python",
   "name": "python3"
  },
  "language_info": {
   "codemirror_mode": {
    "name": "ipython",
    "version": 3
   },
   "file_extension": ".py",
   "mimetype": "text/x-python",
   "name": "python",
   "nbconvert_exporter": "python",
   "pygments_lexer": "ipython3",
   "version": "3.5.2"
  }
 },
 "nbformat": 4,
 "nbformat_minor": 2
}
